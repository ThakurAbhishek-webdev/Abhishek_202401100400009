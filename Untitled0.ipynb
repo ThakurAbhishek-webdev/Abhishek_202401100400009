{
  "nbformat": 4,
  "nbformat_minor": 0,
  "metadata": {
    "colab": {
      "provenance": []
    },
    "kernelspec": {
      "name": "python3",
      "display_name": "Python 3"
    },
    "language_info": {
      "name": "python"
    }
  },
  "cells": [
    {
      "cell_type": "code",
      "execution_count": null,
      "metadata": {
        "colab": {
          "base_uri": "https://localhost:8080/"
        },
        "id": "mKtztx4UiZSS",
        "outputId": "f1bc900b-52bc-4d87-da91-81255ab3ccf7"
      },
      "outputs": [
        {
          "output_type": "stream",
          "name": "stdout",
          "text": [
            "Enter the value of n (n must be at least 4): 5\n",
            "Q....\n",
            "..Q..\n",
            "....Q\n",
            ".Q...\n",
            "...Q.\n",
            "\n",
            "Q....\n",
            "...Q.\n",
            ".Q...\n",
            "....Q\n",
            "..Q..\n",
            "\n",
            ".Q...\n",
            "...Q.\n",
            "Q....\n",
            "..Q..\n",
            "....Q\n",
            "\n",
            ".Q...\n",
            "....Q\n",
            "..Q..\n",
            "Q....\n",
            "...Q.\n",
            "\n",
            "..Q..\n",
            "Q....\n",
            "...Q.\n",
            ".Q...\n",
            "....Q\n",
            "\n",
            "..Q..\n",
            "....Q\n",
            ".Q...\n",
            "...Q.\n",
            "Q....\n",
            "\n",
            "...Q.\n",
            "Q....\n",
            "..Q..\n",
            "....Q\n",
            ".Q...\n",
            "\n",
            "...Q.\n",
            ".Q...\n",
            "....Q\n",
            "..Q..\n",
            "Q....\n",
            "\n",
            "....Q\n",
            ".Q...\n",
            "...Q.\n",
            "Q....\n",
            "..Q..\n",
            "\n",
            "....Q\n",
            "..Q..\n",
            "Q....\n",
            "...Q.\n",
            ".Q...\n",
            "\n"
          ]
        }
      ],
      "source": [
        "def solve_n_queens(n):\n",
        "    if n < 4:\n",
        "        raise ValueError(\"n must be at least 4.\")\n",
        "\n",
        "    def is_valid(board, row, col):\n",
        "        # Check previous rows for conflicts in column or diagonal\n",
        "        for i in range(row):\n",
        "            if board[i] == col or \\\n",
        "               board[i] - i == col - row or \\\n",
        "               board[i] + i == col + row:\n",
        "                return False\n",
        "        return True\n",
        "\n",
        "    def backtrack(row, board, solutions):\n",
        "        if row == n:\n",
        "            # Found a valid solution; build its board representation.\n",
        "            solution = []\n",
        "            for i in range(n):\n",
        "                line = ['.'] * n\n",
        "                line[board[i]] = 'Q'\n",
        "                solution.append(\"\".join(line))\n",
        "            solutions.append(solution)\n",
        "            return\n",
        "\n",
        "        for col in range(n):\n",
        "            if is_valid(board, row, col):\n",
        "                board[row] = col  # Place queen at the valid position\n",
        "                backtrack(row + 1, board, solutions)\n",
        "\n",
        "    solutions = []\n",
        "    board = [-1] * n  # board[i] holds the column index for queen at row i\n",
        "    backtrack(0, board, solutions)\n",
        "    return solutions\n",
        "\n",
        "# Take input from the user\n",
        "try:\n",
        "    user_input = input(\"Enter the value of n (n must be at least 4): \")\n",
        "    n = int(user_input)\n",
        "    results = solve_n_queens(n)\n",
        "    #print(\"Number of solutions:\", len(results))\n",
        "    for solution in results:\n",
        "        for line in solution:\n",
        "            print(line)\n",
        "        print(\"\")\n",
        "except ValueError as ve:\n",
        "    print(\"Error:\", ve)"
      ]
    },
    {
      "cell_type": "code",
      "source": [],
      "metadata": {
        "id": "HtgYCpA-LGWO"
      },
      "execution_count": null,
      "outputs": []
    }
  ]
}